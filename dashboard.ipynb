{
 "cells": [
  {
   "cell_type": "code",
   "execution_count": 4,
   "metadata": {},
   "outputs": [],
   "source": [
    "from dash import Dash, html, dcc\n",
    "import dash_bootstrap_components as dbc"
   ]
  },
  {
   "cell_type": "markdown",
   "metadata": {},
   "source": [
    "#### Let’s start creating our dashboard. First, we launch the Dash application:"
   ]
  },
  {
   "cell_type": "code",
   "execution_count": 5,
   "metadata": {},
   "outputs": [],
   "source": [
    "app = Dash(__name__)"
   ]
  },
  {
   "cell_type": "markdown",
   "metadata": {},
   "source": [
    "#### Next, we create a layout; for now, it is just an empty DIV container."
   ]
  },
  {
   "cell_type": "code",
   "execution_count": 6,
   "metadata": {},
   "outputs": [],
   "source": [
    "app.layout = html.Div()"
   ]
  },
  {
   "cell_type": "markdown",
   "metadata": {},
   "source": [
    "#### Finally, we run our app with the development server in debug mode:"
   ]
  },
  {
   "cell_type": "code",
   "execution_count": 7,
   "metadata": {},
   "outputs": [
    {
     "data": {
      "text/html": [
       "\n",
       "        <iframe\n",
       "            width=\"100%\"\n",
       "            height=\"650\"\n",
       "            src=\"http://127.0.0.1:8050/\"\n",
       "            frameborder=\"0\"\n",
       "            allowfullscreen\n",
       "            \n",
       "        ></iframe>\n",
       "        "
      ],
      "text/plain": [
       "<IPython.lib.display.IFrame at 0x263bdf5df40>"
      ]
     },
     "metadata": {},
     "output_type": "display_data"
    }
   ],
   "source": [
    "if __name__ == \"__main__\":\n",
    "    app.run_server(debug=True, port=8050)"
   ]
  },
  {
   "cell_type": "markdown",
   "metadata": {},
   "source": [
    "#### Run the resulting code: http://127.0.0.1:8050/"
   ]
  },
  {
   "cell_type": "code",
   "execution_count": 8,
   "metadata": {},
   "outputs": [
    {
     "data": {
      "text/html": [
       "\n",
       "        <iframe\n",
       "            width=\"100%\"\n",
       "            height=\"650\"\n",
       "            src=\"http://127.0.0.1:8050/\"\n",
       "            frameborder=\"0\"\n",
       "            allowfullscreen\n",
       "            \n",
       "        ></iframe>\n",
       "        "
      ],
      "text/plain": [
       "<IPython.lib.display.IFrame at 0x263be493f20>"
      ]
     },
     "metadata": {},
     "output_type": "display_data"
    }
   ],
   "source": [
    "app = Dash(__name__)\n",
    "app.layout = html.Div()\n",
    "if __name__ == \"__main__\":\n",
    "    app.run_server(debug=True, port=8050)"
   ]
  },
  {
   "cell_type": "markdown",
   "metadata": {},
   "source": [
    "#### Creating the dashboard body"
   ]
  },
  {
   "cell_type": "markdown",
   "metadata": {},
   "source": [
    "```text\n",
    "To create the dashboard body, we’ll use a Bootstrap container. This is the top-level element of our dashboard grid, which sets its width and “contains” all of its child elements. Replace our placeholder html.Div() with dbc.Container(). To make our dashboard take up 100% of the width of any browser window, make it fluid by setting fluid=True.\n",
    "```"
   ]
  },
  {
   "cell_type": "code",
   "execution_count": 9,
   "metadata": {},
   "outputs": [],
   "source": [
    "app.layout = dbc.Container(fluid=True)"
   ]
  },
  {
   "cell_type": "markdown",
   "metadata": {},
   "source": [
    "``` plain\n",
    "For the container to appear on the screen, it must contain something, so let’s temporarily place some text in it. First, wrap the text with the html.P() element, an analogue of the HTML <p> tag, and then place it inside the container.\n",
    "```"
   ]
  },
  {
   "cell_type": "code",
   "execution_count": 10,
   "metadata": {},
   "outputs": [],
   "source": [
    "app.layout = dbc.Container(html.P(\"My awesome dashboard will be here.\"),fluid=True)"
   ]
  },
  {
   "cell_type": "markdown",
   "metadata": {},
   "source": [
    "#### How the dashboard is being styled : ! mkdir assets"
   ]
  },
  {
   "cell_type": "markdown",
   "metadata": {},
   "source": [
    "```plain\n",
    "Let’s first create our custom CSS. In the same folder where our Jupyter Notebook (or our code) is run, create an “assets” folder, then an empty text file inside of it and save it as “style.css”. In this file, we’ll detail the looks of all our dashboard elements. Let’s open it.\n",
    "```"
   ]
  },
  {
   "cell_type": "markdown",
   "metadata": {},
   "source": [
    "```code \n",
    "To link the dashboard’s element with its CSS style, we provide it with a class or ID:\n",
    "\n",
    "- A class is assigned to a single element or a group of elements in order to style them.\n",
    "- An ID is assigned to a unique dashboard element to style it and/or to set up its interactivity.\n",
    "\n",
    "```"
   ]
  },
  {
   "cell_type": "code",
   "execution_count": 11,
   "metadata": {},
   "outputs": [],
   "source": [
    "app.layout = dbc.Container(html.P(\"My awesome dashboard will be here.\"),\n",
    "                            fluid=True,\n",
    "                            className='dashboard-container')"
   ]
  },
  {
   "cell_type": "markdown",
   "metadata": {},
   "source": [
    "```plain\n",
    "Bootstrap has a set of pre-designed styles that can be installed when the application starts. Links to all available options are listed in the last section of this page. Each style page shows you how all elements of your application will look after you apply it.\n",
    "```\n",
    "<a href=\"https://dash-bootstrap-components.opensource.faculty.ai/docs/themes/\">https://dash-bootstrap-components.opensource.faculty.ai/docs/themes/</a>\n",
    "\n",
    "``` plain\n",
    "To set a default style, we specify it in square brackets when the application starts, as I do here with the Flatly style:\n",
    "```\n"
   ]
  },
  {
   "cell_type": "code",
   "execution_count": 12,
   "metadata": {},
   "outputs": [],
   "source": [
    "app = Dash(__name__, external_stylesheets=[dbc.themes.FLATLY])"
   ]
  },
  {
   "cell_type": "markdown",
   "metadata": {},
   "source": [
    "#### Styling individual dashboard elements"
   ]
  },
  {
   "cell_type": "markdown",
   "metadata": {},
   "source": [
    "```plain\n",
    "We can also style any individual element directly from the app. This style will rank higher than both custom CSS and Bootstrap CSS. For example, you can try to change the color of the dashboard to white, its border color to black, and the text color to black. To do this, put style dictionaries with new colors inside the dbc.Container() and html.P(), respectively.\n",
    "\n",
    "```"
   ]
  },
  {
   "cell_type": "code",
   "execution_count": 13,
   "metadata": {},
   "outputs": [
    {
     "name": "stdout",
     "output_type": "stream",
     "text": [
      "Requirement already satisfied: openpyxl in c:\\users\\alexandre\\projets\\projets\\dashboard\\.env\\lib\\site-packages (3.1.5)\n",
      "Requirement already satisfied: et-xmlfile in c:\\users\\alexandre\\projets\\projets\\dashboard\\.env\\lib\\site-packages (from openpyxl) (1.1.0)\n"
     ]
    },
    {
     "name": "stderr",
     "output_type": "stream",
     "text": [
      "\n",
      "[notice] A new release of pip is available: 24.0 -> 24.1.1\n",
      "[notice] To update, run: python.exe -m pip install --upgrade pip\n"
     ]
    }
   ],
   "source": [
    "! pip install openpyxl\n"
   ]
  },
  {
   "cell_type": "code",
   "execution_count": 19,
   "metadata": {},
   "outputs": [
    {
     "data": {
      "text/html": [
       "\n",
       "        <iframe\n",
       "            width=\"100%\"\n",
       "            height=\"650\"\n",
       "            src=\"http://127.0.0.1:8050/\"\n",
       "            frameborder=\"0\"\n",
       "            allowfullscreen\n",
       "            \n",
       "        ></iframe>\n",
       "        "
      ],
      "text/plain": [
       "<IPython.lib.display.IFrame at 0x263bd5d4680>"
      ]
     },
     "metadata": {},
     "output_type": "display_data"
    }
   ],
   "source": [
    "from dash import Dash, html, dcc\n",
    "import dash_bootstrap_components as dbc\n",
    "\n",
    "import plotly.graph_objects as go\n",
    "import numpy as np\n",
    "import random\n",
    "import pandas as pd\n",
    "import plotly.express as px\n",
    "app = Dash(__name__, external_stylesheets=[dbc.themes.FLATLY])\n",
    "\n",
    "df = pd.read_csv('https://raw.githubusercontent.com/plotly/datasets/master/finance-charts-apple.csv')\n",
    "fig = go.Figure(data=[go.Candlestick(x=df['Date'],\n",
    "                open=df['AAPL.Open'],\n",
    "                high=df['AAPL.High'],\n",
    "                low=df['AAPL.Low'],\n",
    "                close=df['AAPL.Close'])])\n",
    "\"\"\"\n",
    "fig = px.bar(\n",
    "    x=[\"jav\",\"Fev\",\"Mar\",\"Avr\",\"Mai\",\"Juin\",\"Juil\",\"Aout\",\"Sep\",\"Oct\",\"Nov\",\"Dec\"], y=[1,3,2,5,1,3,2,51,3,2,5,2], # replace with your own data source\n",
    "    \n",
    "    title=\"sample figure\", height=325\n",
    "\n",
    ")\n",
    "\"\"\"\n",
    "fig.update_layout(plot_bgcolor='#010103', width=790, height=730,\n",
    "                  xaxis_visible=True, yaxis_visible=False, showlegend=False, margin=dict(l=0,r=0,t=0,b=0))\n",
    "\n",
    "app.layout = dbc.Container([\n",
    "    html.Div([\n",
    "        html.Div([\n",
    "            html.H1([\n",
    "                html.Span(\"Welcome\"),\n",
    "                html.Br(),\n",
    "                html.Span(\"to my beautiful dashboard!\")\n",
    "            ]),\n",
    "            html.P(\"This dashboard prototype shows how to create an effective layout.\"\n",
    "              )\n",
    "        ],\n",
    "        style={\"vertical-alignment\": \"top\", \"height\": 260}),\n",
    "        html.Div([\n",
    "            html.Div(\n",
    "                dbc.RadioItems(\n",
    "                    className='btn-group',\n",
    "                    inputClassName='btn-check',\n",
    "                    labelClassName=\"btn btn-outline-light\",\n",
    "                    labelCheckedClassName=\"btn btn-light\",\n",
    "                    options=[\n",
    "                        {\"label\": \"Graph\", \"value\": 1},\n",
    "                        {\"label\": \"Table\", \"value\": 2}\n",
    "                    ],\n",
    "                    value=1,\n",
    "                    style={'width': '100%'}\n",
    "                ), style={'width': 206}\n",
    "            ),\n",
    "            html.Div(\n",
    "                dbc.Button(\n",
    "                    \"About\",\n",
    "                    className=\"btn btn-info\",\n",
    "                    n_clicks=0\n",
    "                ), style={'width': 104})\n",
    "        ], style={'margin-left': 15, 'margin-right': 15, 'display': 'flex'}),\n",
    "        html.Div([\n",
    "            html.Div([\n",
    "                html.H2('Unclearable Dropdown:'),\n",
    "                dcc.Dropdown(\n",
    "                    options=[\n",
    "                        {'label': 'Option A', 'value': 1},\n",
    "                        {'label': 'Option B', 'value': 2},\n",
    "                        {'label': 'Option C', 'value': 3}\n",
    "                    ],\n",
    "                    value=1,\n",
    "                    clearable=False,\n",
    "                    optionHeight=40,\n",
    "                    className='customDropdown'\n",
    "                )\n",
    "            ]),\n",
    "            html.Div([\n",
    "                html.H2('Unclearable Dropdown:'),\n",
    "                dcc.Dropdown(\n",
    "                    options=[\n",
    "                        {'label': 'Option A', 'value': 1},\n",
    "                        {'label': 'Option B', 'value': 2},\n",
    "                        {'label': 'Option C', 'value': 3}\n",
    "                    ],\n",
    "                    value=2,\n",
    "                    clearable=False,\n",
    "                    optionHeight=40,\n",
    "                    className='customDropdown'\n",
    "                )\n",
    "            ]),\n",
    "            html.Div([\n",
    "                html.H2('Clearable Dropdown:'),\n",
    "                dcc.Dropdown(\n",
    "                    options=[\n",
    "                        {'label': 'Option A', 'value': 1},\n",
    "                        {'label': 'Option B', 'value': 2},\n",
    "                        {'label': 'Option C', 'value': 3}\n",
    "                    ],\n",
    "                    clearable=True,\n",
    "                    optionHeight=40,\n",
    "                    className='customDropdown'\n",
    "                )\n",
    "            ])\n",
    "        ], style={'margin-left': 15, 'margin-right': 15, 'margin-top': 30}),\n",
    "        html.Div(\n",
    "            html.Img(src='assets/image.svg',\n",
    "                     style={'margin-left': 15, 'margin-right': 15, 'margin-top': 30, 'width': 310})\n",
    "        )\n",
    "    ], style={\n",
    "        'width': 340,\n",
    "        'margin-left': 35,\n",
    "        'margin-top': 35,\n",
    "        'margin-bottom': 35\n",
    "    }),\n",
    "    html.Div(\n",
    "        [\n",
    "            html.Div(\n",
    "                dcc.Graph(\n",
    "                    figure=fig\n",
    "                ),\n",
    "                     style={'width': 790}),\n",
    "            html.Div([\n",
    "                html.H2('Output 1:'),\n",
    "                html.Div(className='Output'),\n",
    "                html.H2('Output 2:'),\n",
    "                html.Div(html.H3(\"Selected Value\"), className='Output')\n",
    "            ], style={'width': 198})\n",
    "        ],\n",
    "        style={\n",
    "            'width': 990,\n",
    "            'margin-top': 35,\n",
    "            'margin-right': 35,\n",
    "            'margin-bottom': 35,\n",
    "            'display': 'flex'\n",
    "        })\n",
    "],\n",
    "                           fluid=True,\n",
    "                           style={'display': 'flex'},\n",
    "                           className='dashboard-container')\n",
    "if __name__ == \"__main__\":\n",
    "    app.run_server(debug=True)"
   ]
  }
 ],
 "metadata": {
  "kernelspec": {
   "display_name": "Python 3",
   "language": "python",
   "name": "python3"
  },
  "language_info": {
   "codemirror_mode": {
    "name": "ipython",
    "version": 3
   },
   "file_extension": ".py",
   "mimetype": "text/x-python",
   "name": "python",
   "nbconvert_exporter": "python",
   "pygments_lexer": "ipython3",
   "version": "3.12.3"
  }
 },
 "nbformat": 4,
 "nbformat_minor": 2
}
